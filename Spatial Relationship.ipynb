{
 "cells": [
  {
   "cell_type": "markdown",
   "id": "2fbbad88",
   "metadata": {},
   "source": [
    "# Spatial relationships and operations"
   ]
  },
  {
   "cell_type": "markdown",
   "id": "3185012c",
   "metadata": {},
   "source": [
    "## Import necessary libraries"
   ]
  },
  {
   "cell_type": "code",
   "execution_count": 3,
   "id": "6c498e5f",
   "metadata": {},
   "outputs": [],
   "source": [
    "%matplotlib inline\n",
    "\n",
    "import pandas as pd\n",
    "import geopandas\n",
    "pd.options.display.max_rows = 10"
   ]
  },
  {
   "cell_type": "markdown",
   "id": "5a0798b1",
   "metadata": {},
   "source": [
    "## import Data"
   ]
  },
  {
   "cell_type": "code",
   "execution_count": 2,
   "id": "8f74caf0",
   "metadata": {},
   "outputs": [],
   "source": [
    "countries = geopandas.read_file(\"data/ne_110m_admin_0_countries.zip\")\n",
    "cities = geopandas.read_file(\"data/ne_110m_populated_places.zip\")\n",
    "rivers = geopandas.read_file(\"data/ne_50m_rivers_lake_centerlines.zip\")"
   ]
  },
  {
   "cell_type": "markdown",
   "id": "3636c21d",
   "metadata": {},
   "source": [
    "## Spatial relationships\n",
    "\n",
    "An important aspect of geospatial data is that we can look at *spatial relationships*: how two spatial objects relate to each other (whether they overlap, intersect, contain, .. one another).\n",
    "\n",
    "The topological relationships in geospatial vector data is based on  Dimensionally Extended 9-Intersection Model . See https://en.wikipedia.org/wiki/Spatial_relation for more information.\n",
    "\n",
    "![](img/TopologicSpatialRelations2.png)\n",
    "\n",
    "(Image by [Krauss, CC BY-SA 3.0](https://en.wikipedia.org/wiki/Spatial_relation#/media/File:TopologicSpatialRelarions2.png))"
   ]
  },
  {
   "cell_type": "markdown",
   "id": "4af9df24",
   "metadata": {},
   "source": [
    "## Relationships between individual objects"
   ]
  },
  {
   "cell_type": "markdown",
   "id": "dc361c2d",
   "metadata": {},
   "source": [
    "Let's first create some small toy spatial objects:\n",
    "\n",
    "A polygon <small>(note: we use `.squeeze()` here to to extract the scalar geometry object from the GeoSeries of length 1)</small>:"
   ]
  },
  {
   "cell_type": "code",
   "execution_count": 4,
   "id": "4d8b33de",
   "metadata": {},
   "outputs": [],
   "source": [
    "Kenya = countries.loc[countries['name'] == 'Kenya', 'geometry'].squeeze()"
   ]
  },
  {
   "cell_type": "code",
   "execution_count": 5,
   "id": "9d1dc6da",
   "metadata": {},
   "outputs": [],
   "source": [
    "nairobi = cities.loc[cities['name'] == 'Nairobi', 'geometry'].squeeze()\n",
    "kampala = cities.loc[cities['name'] == 'Kampala', 'geometry'].squeeze()"
   ]
  },
  {
   "cell_type": "code",
   "execution_count": 9,
   "id": "49994e86",
   "metadata": {},
   "outputs": [],
   "source": [
    "from shapely.geometry import LineString\n",
    "line = LineString([nairobi, kampala])"
   ]
  },
  {
   "cell_type": "markdown",
   "id": "73c38dc7",
   "metadata": {},
   "source": [
    "Let's visualize those 4 geometry objects together (I only put them in a GeoSeries to easily display them together with the geopandas `.plot()` method):"
   ]
  },
  {
   "cell_type": "code",
   "execution_count": 10,
   "id": "e34bc1ba",
   "metadata": {},
   "outputs": [
    {
     "data": {
      "text/plain": [
       "<AxesSubplot:>"
      ]
     },
     "execution_count": 10,
     "metadata": {},
     "output_type": "execute_result"
    },
    {
     "data": {
      "image/png": "[encoded data removed]",
      "text/plain": [
       "<Figure size 432x288 with 1 Axes>"
      ]
     },
     "metadata": {
      "needs_background": "light"
     },
     "output_type": "display_data"
    }
   ],
   "source": [
    "geopandas.GeoSeries([Kenya, nairobi, kampala, line]).plot(cmap='tab10')"
   ]
  },
  {
   "cell_type": "markdown",
   "id": "3dc8155a",
   "metadata": {},
   "source": [
    "You can recognize the abstract shape of Kenya.\n",
    "\n",
    "Nairobi, the capital of Kenya, is thus located within Kenya. This is a spatial relationship, and we can test this using the individual shapely geometry objects as follow:"
   ]
  },
  {
   "cell_type": "code",
   "execution_count": 11,
   "id": "1df84ab8",
   "metadata": {},
   "outputs": [
    {
     "data": {
      "text/plain": [
       "True"
      ]
     },
     "execution_count": 11,
     "metadata": {},
     "output_type": "execute_result"
    }
   ],
   "source": [
    "nairobi.within(Kenya)"
   ]
  },
  {
   "cell_type": "markdown",
   "id": "ef51a748",
   "metadata": {},
   "source": [
    "And using the reverse, Kenya contains Nairobi:"
   ]
  },
  {
   "cell_type": "code",
   "execution_count": 12,
   "id": "5e215df8",
   "metadata": {},
   "outputs": [
    {
     "data": {
      "text/plain": [
       "True"
      ]
     },
     "execution_count": 12,
     "metadata": {},
     "output_type": "execute_result"
    }
   ],
   "source": [
    "Kenya.contains(nairobi)"
   ]
  },
  {
   "cell_type": "markdown",
   "id": "8c1a647e",
   "metadata": {},
   "source": [
    "On the other hand, Kampala is not located in Kenya:"
   ]
  },
  {
   "cell_type": "code",
   "execution_count": 13,
   "id": "c493bbbe",
   "metadata": {},
   "outputs": [
    {
     "data": {
      "text/plain": [
       "False"
      ]
     },
     "execution_count": 13,
     "metadata": {},
     "output_type": "execute_result"
    }
   ],
   "source": [
    "Kenya.contains(kampala)"
   ]
  },
  {
   "cell_type": "code",
   "execution_count": 14,
   "id": "3442a919",
   "metadata": {},
   "outputs": [
    {
     "data": {
      "text/plain": [
       "False"
      ]
     },
     "execution_count": 14,
     "metadata": {},
     "output_type": "execute_result"
    }
   ],
   "source": [
    "kampala.within(Kenya)"
   ]
  },
  {
   "cell_type": "markdown",
   "id": "9f7514fa",
   "metadata": {},
   "source": [
    "The straight line we draw from nairobi to kampala is not fully located within Kenya, but it does intersect with it:"
   ]
  },
  {
   "cell_type": "code",
   "execution_count": 15,
   "id": "a16e7881",
   "metadata": {},
   "outputs": [
    {
     "data": {
      "text/plain": [
       "False"
      ]
     },
     "execution_count": 15,
     "metadata": {},
     "output_type": "execute_result"
    }
   ],
   "source": [
    "Kenya.contains(line)"
   ]
  },
  {
   "cell_type": "code",
   "execution_count": 16,
   "id": "2cadf100",
   "metadata": {},
   "outputs": [
    {
     "data": {
      "text/plain": [
       "True"
      ]
     },
     "execution_count": 16,
     "metadata": {},
     "output_type": "execute_result"
    }
   ],
   "source": [
    "line.intersects(Kenya)"
   ]
  },
  {
   "cell_type": "markdown",
   "id": "dad7f76d",
   "metadata": {},
   "source": [
    "## Spatial relationships with GeoDataFrames\n",
    "\n",
    "The same methods that are available on individual `shapely` geometries as we have seen above, are also available as methods on `GeoSeries` / `GeoDataFrame` objects.\n",
    "\n",
    "For example, if we call the `contains` method on the africa dataset with the `nairobi` point, it will do this spatial check for each country in the `world` dataframe:"
   ]
  },
  {
   "cell_type": "code",
   "execution_count": 17,
   "id": "25a6e6c9",
   "metadata": {},
   "outputs": [
    {
     "data": {
      "text/plain": [
       "0      False\n",
       "1      False\n",
       "2      False\n",
       "3      False\n",
       "4      False\n",
       "       ...  \n",
       "172    False\n",
       "173    False\n",
       "174    False\n",
       "175    False\n",
       "176    False\n",
       "Length: 177, dtype: bool"
      ]
     },
     "execution_count": 17,
     "metadata": {},
     "output_type": "execute_result"
    }
   ],
   "source": [
    "countries.contains(nairobi)"
   ]
  },
  {
   "cell_type": "markdown",
   "id": "27b66472",
   "metadata": {},
   "source": [
    "Because the above gives us a boolean result, we can use that to filter the dataframe:"
   ]
  },
  {
   "cell_type": "code",
   "execution_count": 18,
   "id": "0560c7bd",
   "metadata": {},
   "outputs": [
    {
     "data": {
      "text/html": [
       "<div>\n",
       "<style scoped>\n",
       "    .dataframe tbody tr th:only-of-type {\n",
       "        vertical-align: middle;\n",
       "    }\n",
       "\n",
       "    .dataframe tbody tr th {\n",
       "        vertical-align: top;\n",
       "    }\n",
       "\n",
       "    .dataframe thead th {\n",
       "        text-align: right;\n",
       "    }\n",
       "</style>\n",
       "<table border=\"1\" class=\"dataframe\">\n",
       "  <thead>\n",
       "    <tr style=\"text-align: right;\">\n",
       "      <th></th>\n",
       "      <th>iso_a3</th>\n",
       "      <th>name</th>\n",
       "      <th>continent</th>\n",
       "      <th>pop_est</th>\n",
       "      <th>gdp_md_est</th>\n",
       "      <th>geometry</th>\n",
       "    </tr>\n",
       "  </thead>\n",
       "  <tbody>\n",
       "    <tr>\n",
       "      <th>84</th>\n",
       "      <td>KEN</td>\n",
       "      <td>Kenya</td>\n",
       "      <td>Africa</td>\n",
       "      <td>47615739.0</td>\n",
       "      <td>152700.0</td>\n",
       "      <td>POLYGON ((35.29801 5.50600, 35.81745 5.33823, ...</td>\n",
       "    </tr>\n",
       "  </tbody>\n",
       "</table>\n",
       "</div>"
      ],
      "text/plain": [
       "   iso_a3   name continent     pop_est  gdp_md_est  \\\n",
       "84    KEN  Kenya    Africa  47615739.0    152700.0   \n",
       "\n",
       "                                             geometry  \n",
       "84  POLYGON ((35.29801 5.50600, 35.81745 5.33823, ...  "
      ]
     },
     "execution_count": 18,
     "metadata": {},
     "output_type": "execute_result"
    }
   ],
   "source": [
    "countries[countries.contains(nairobi)]"
   ]
  },
  {
   "cell_type": "markdown",
   "id": "272d0fe1",
   "metadata": {},
   "source": [
    "And indeed, Kenya is the only country in the world in which Nairobi is located."
   ]
  },
  {
   "cell_type": "code",
   "execution_count": 20,
   "id": "2a3a9b4a",
   "metadata": {},
   "outputs": [
    {
     "data": {
      "text/html": [
       "<div>\n",
       "<style scoped>\n",
       "    .dataframe tbody tr th:only-of-type {\n",
       "        vertical-align: middle;\n",
       "    }\n",
       "\n",
       "    .dataframe tbody tr th {\n",
       "        vertical-align: top;\n",
       "    }\n",
       "\n",
       "    .dataframe thead th {\n",
       "        text-align: right;\n",
       "    }\n",
       "</style>\n",
       "<table border=\"1\" class=\"dataframe\">\n",
       "  <thead>\n",
       "    <tr style=\"text-align: right;\">\n",
       "      <th></th>\n",
       "      <th>scalerank</th>\n",
       "      <th>featurecla</th>\n",
       "      <th>name</th>\n",
       "      <th>note</th>\n",
       "      <th>min_zoom</th>\n",
       "      <th>name_alt</th>\n",
       "      <th>name_en</th>\n",
       "      <th>min_label</th>\n",
       "      <th>geometry</th>\n",
       "    </tr>\n",
       "  </thead>\n",
       "  <tbody>\n",
       "    <tr>\n",
       "      <th>0</th>\n",
       "      <td>6</td>\n",
       "      <td>Lake Centerline</td>\n",
       "      <td>Kama</td>\n",
       "      <td>None</td>\n",
       "      <td>5.0</td>\n",
       "      <td>None</td>\n",
       "      <td>Kama</td>\n",
       "      <td>6.0</td>\n",
       "      <td>LINESTRING (51.93713 55.70107, 51.88087 55.686...</td>\n",
       "    </tr>\n",
       "    <tr>\n",
       "      <th>1</th>\n",
       "      <td>6</td>\n",
       "      <td>River</td>\n",
       "      <td>Kama</td>\n",
       "      <td>None</td>\n",
       "      <td>5.0</td>\n",
       "      <td>None</td>\n",
       "      <td>Kama</td>\n",
       "      <td>6.0</td>\n",
       "      <td>LINESTRING (53.69385 58.20632, 53.67715 58.273...</td>\n",
       "    </tr>\n",
       "    <tr>\n",
       "      <th>2</th>\n",
       "      <td>3</td>\n",
       "      <td>Lake Centerline</td>\n",
       "      <td>Abay</td>\n",
       "      <td>None</td>\n",
       "      <td>3.0</td>\n",
       "      <td>None</td>\n",
       "      <td>Abay</td>\n",
       "      <td>4.0</td>\n",
       "      <td>LINESTRING (37.11301 11.85499, 37.15037 11.893...</td>\n",
       "    </tr>\n",
       "    <tr>\n",
       "      <th>3</th>\n",
       "      <td>3</td>\n",
       "      <td>Lake Centerline</td>\n",
       "      <td>Al Furat</td>\n",
       "      <td>None</td>\n",
       "      <td>3.0</td>\n",
       "      <td>None</td>\n",
       "      <td>Al Furat</td>\n",
       "      <td>4.0</td>\n",
       "      <td>LINESTRING (38.56119 35.86264, 38.36534 35.903...</td>\n",
       "    </tr>\n",
       "    <tr>\n",
       "      <th>4</th>\n",
       "      <td>6</td>\n",
       "      <td>Lake Centerline</td>\n",
       "      <td>Alabama</td>\n",
       "      <td>None</td>\n",
       "      <td>5.0</td>\n",
       "      <td>None</td>\n",
       "      <td>Alabama</td>\n",
       "      <td>6.0</td>\n",
       "      <td>MULTILINESTRING ((-86.52177 33.03212, -86.5209...</td>\n",
       "    </tr>\n",
       "    <tr>\n",
       "      <th>...</th>\n",
       "      <td>...</td>\n",
       "      <td>...</td>\n",
       "      <td>...</td>\n",
       "      <td>...</td>\n",
       "      <td>...</td>\n",
       "      <td>...</td>\n",
       "      <td>...</td>\n",
       "      <td>...</td>\n",
       "      <td>...</td>\n",
       "    </tr>\n",
       "    <tr>\n",
       "      <th>457</th>\n",
       "      <td>5</td>\n",
       "      <td>River</td>\n",
       "      <td>None</td>\n",
       "      <td>_untitled_79</td>\n",
       "      <td>4.7</td>\n",
       "      <td>None</td>\n",
       "      <td>None</td>\n",
       "      <td>5.7</td>\n",
       "      <td>MULTILINESTRING ((106.46402 10.29831, 106.3853...</td>\n",
       "    </tr>\n",
       "    <tr>\n",
       "      <th>458</th>\n",
       "      <td>5</td>\n",
       "      <td>Lake Centerline</td>\n",
       "      <td>None</td>\n",
       "      <td>_untitled_78</td>\n",
       "      <td>4.7</td>\n",
       "      <td>None</td>\n",
       "      <td>None</td>\n",
       "      <td>5.7</td>\n",
       "      <td>LINESTRING (-101.16276 62.36668, -101.31836 62...</td>\n",
       "    </tr>\n",
       "    <tr>\n",
       "      <th>459</th>\n",
       "      <td>6</td>\n",
       "      <td>River</td>\n",
       "      <td>Garonne</td>\n",
       "      <td>None</td>\n",
       "      <td>5.0</td>\n",
       "      <td>None</td>\n",
       "      <td>Garonne</td>\n",
       "      <td>6.0</td>\n",
       "      <td>LINESTRING (1.45447 43.41527, 1.45317 43.41704...</td>\n",
       "    </tr>\n",
       "    <tr>\n",
       "      <th>460</th>\n",
       "      <td>5</td>\n",
       "      <td>River</td>\n",
       "      <td>Loire</td>\n",
       "      <td>None</td>\n",
       "      <td>4.7</td>\n",
       "      <td>None</td>\n",
       "      <td>Loire</td>\n",
       "      <td>5.7</td>\n",
       "      <td>None</td>\n",
       "    </tr>\n",
       "    <tr>\n",
       "      <th>461</th>\n",
       "      <td>5</td>\n",
       "      <td>River</td>\n",
       "      <td>Loire</td>\n",
       "      <td>Fixed in 4.0</td>\n",
       "      <td>4.7</td>\n",
       "      <td>None</td>\n",
       "      <td>Loire</td>\n",
       "      <td>5.7</td>\n",
       "      <td>MULTILINESTRING ((3.08325 46.98543, 3.02186 47...</td>\n",
       "    </tr>\n",
       "  </tbody>\n",
       "</table>\n",
       "<p>462 rows × 9 columns</p>\n",
       "</div>"
      ],
      "text/plain": [
       "     scalerank       featurecla      name          note  min_zoom name_alt  \\\n",
       "0            6  Lake Centerline      Kama          None       5.0     None   \n",
       "1            6            River      Kama          None       5.0     None   \n",
       "2            3  Lake Centerline      Abay          None       3.0     None   \n",
       "3            3  Lake Centerline  Al Furat          None       3.0     None   \n",
       "4            6  Lake Centerline   Alabama          None       5.0     None   \n",
       "..         ...              ...       ...           ...       ...      ...   \n",
       "457          5            River      None  _untitled_79       4.7     None   \n",
       "458          5  Lake Centerline      None  _untitled_78       4.7     None   \n",
       "459          6            River   Garonne          None       5.0     None   \n",
       "460          5            River     Loire          None       4.7     None   \n",
       "461          5            River     Loire  Fixed in 4.0       4.7     None   \n",
       "\n",
       "      name_en  min_label                                           geometry  \n",
       "0        Kama        6.0  LINESTRING (51.93713 55.70107, 51.88087 55.686...  \n",
       "1        Kama        6.0  LINESTRING (53.69385 58.20632, 53.67715 58.273...  \n",
       "2        Abay        4.0  LINESTRING (37.11301 11.85499, 37.15037 11.893...  \n",
       "3    Al Furat        4.0  LINESTRING (38.56119 35.86264, 38.36534 35.903...  \n",
       "4     Alabama        6.0  MULTILINESTRING ((-86.52177 33.03212, -86.5209...  \n",
       "..        ...        ...                                                ...  \n",
       "457      None        5.7  MULTILINESTRING ((106.46402 10.29831, 106.3853...  \n",
       "458      None        5.7  LINESTRING (-101.16276 62.36668, -101.31836 62...  \n",
       "459   Garonne        6.0  LINESTRING (1.45447 43.41527, 1.45317 43.41704...  \n",
       "460     Loire        5.7                                               None  \n",
       "461     Loire        5.7  MULTILINESTRING ((3.08325 46.98543, 3.02186 47...  \n",
       "\n",
       "[462 rows x 9 columns]"
      ]
     },
     "execution_count": 20,
     "metadata": {},
     "output_type": "execute_result"
    }
   ],
   "source": [
    "rivers[]"
   ]
  },
  {
   "cell_type": "markdown",
   "id": "c94dd628",
   "metadata": {},
   "source": [
    "Another example, extracting the linestring of the kagera river in Africa, we can query through which countries the river flows:"
   ]
  },
  {
   "cell_type": "code",
   "execution_count": 34,
   "id": "404fc1f7",
   "metadata": {},
   "outputs": [],
   "source": [
    "kagera = rivers[rivers['name'] == 'Kagera'].geometry.squeeze()"
   ]
  },
  {
   "cell_type": "code",
   "execution_count": 35,
   "id": "0f8351b2",
   "metadata": {},
   "outputs": [
    {
     "data": {
      "text/html": [
       "<div>\n",
       "<style scoped>\n",
       "    .dataframe tbody tr th:only-of-type {\n",
       "        vertical-align: middle;\n",
       "    }\n",
       "\n",
       "    .dataframe tbody tr th {\n",
       "        vertical-align: top;\n",
       "    }\n",
       "\n",
       "    .dataframe thead th {\n",
       "        text-align: right;\n",
       "    }\n",
       "</style>\n",
       "<table border=\"1\" class=\"dataframe\">\n",
       "  <thead>\n",
       "    <tr style=\"text-align: right;\">\n",
       "      <th></th>\n",
       "      <th>iso_a3</th>\n",
       "      <th>name</th>\n",
       "      <th>continent</th>\n",
       "      <th>pop_est</th>\n",
       "      <th>gdp_md_est</th>\n",
       "      <th>geometry</th>\n",
       "    </tr>\n",
       "  </thead>\n",
       "  <tbody>\n",
       "    <tr>\n",
       "      <th>11</th>\n",
       "      <td>BDI</td>\n",
       "      <td>Burundi</td>\n",
       "      <td>Africa</td>\n",
       "      <td>11466756.0</td>\n",
       "      <td>7892.0</td>\n",
       "      <td>POLYGON ((29.34000 -4.49998, 29.27638 -3.29391...</td>\n",
       "    </tr>\n",
       "    <tr>\n",
       "      <th>164</th>\n",
       "      <td>TZA</td>\n",
       "      <td>Tanzania</td>\n",
       "      <td>Africa</td>\n",
       "      <td>53950935.0</td>\n",
       "      <td>150600.0</td>\n",
       "      <td>POLYGON ((29.34000 -4.49998, 29.75351 -4.45239...</td>\n",
       "    </tr>\n",
       "    <tr>\n",
       "      <th>165</th>\n",
       "      <td>UGA</td>\n",
       "      <td>Uganda</td>\n",
       "      <td>Africa</td>\n",
       "      <td>39570125.0</td>\n",
       "      <td>84930.0</td>\n",
       "      <td>POLYGON ((29.57947 -1.34131, 29.58784 -0.58741...</td>\n",
       "    </tr>\n",
       "  </tbody>\n",
       "</table>\n",
       "</div>"
      ],
      "text/plain": [
       "    iso_a3      name continent     pop_est  gdp_md_est  \\\n",
       "11     BDI   Burundi    Africa  11466756.0      7892.0   \n",
       "164    TZA  Tanzania    Africa  53950935.0    150600.0   \n",
       "165    UGA    Uganda    Africa  39570125.0     84930.0   \n",
       "\n",
       "                                              geometry  \n",
       "11   POLYGON ((29.34000 -4.49998, 29.27638 -3.29391...  \n",
       "164  POLYGON ((29.34000 -4.49998, 29.75351 -4.45239...  \n",
       "165  POLYGON ((29.57947 -1.34131, 29.58784 -0.58741...  "
      ]
     },
     "execution_count": 35,
     "metadata": {},
     "output_type": "execute_result"
    }
   ],
   "source": [
    "countries[countries.crosses(kagera)]  # or .intersects"
   ]
  },
  {
   "cell_type": "markdown",
   "id": "2722a72c",
   "metadata": {},
   "source": [
    "<div class=\"alert alert-info\" style=\"font-size:120%\">\n",
    "<b>REFERENCE</b>: <br><br>\n",
    "\n",
    "Overview of the different functions to check spatial relationships (*spatial predicate functions*):\n",
    "\n",
    "<ul>\n",
    "  <li>`equals`</li>\n",
    "  <li>`contains`</li>\n",
    "  <li>`crosses`</li>\n",
    "  <li>`disjoint`</li>\n",
    "  <li>`intersects`</li>\n",
    "  <li>`overlaps`</li>\n",
    "  <li>`touches`</li>\n",
    "  <li>`within`</li>\n",
    "  <li>`covers`</li>\n",
    "</ul>\n",
    "\n",
    "<p>\n",
    "See https://shapely.readthedocs.io/en/stable/manual.html#predicates-and-relationships for an overview of those methods.\n",
    "<p></p>\n",
    "See https://en.wikipedia.org/wiki/DE-9IM for all details on the semantics of those operations.\n",
    "</p>\n",
    "</div>"
   ]
  },
  {
   "cell_type": "markdown",
   "id": "dfec02c3",
   "metadata": {},
   "source": [
    "## Spatial operations\n",
    "\n",
    "Next to the spatial predicates that return boolean values, Shapely and GeoPandas aslo provide analysis methods that return new geometric objects.\n",
    "\n",
    "See https://shapely.readthedocs.io/en/stable/manual.html#spatial-analysis-methods for more details."
   ]
  },
  {
   "cell_type": "markdown",
   "id": "56a4f82a",
   "metadata": {},
   "source": [
    "For example, using the toy data from above, let's construct a buffer around Nairobi (which returns a Polygon):"
   ]
  },
  {
   "cell_type": "code",
   "execution_count": 36,
   "id": "36cfd69c",
   "metadata": {},
   "outputs": [
    {
     "data": {
      "text/plain": [
       "<AxesSubplot:>"
      ]
     },
     "execution_count": 36,
     "metadata": {},
     "output_type": "execute_result"
    },
    {
     "data": {
      "image/png": "[encoded data removed]",
      "text/plain": [
       "<Figure size 432x288 with 1 Axes>"
      ]
     },
     "metadata": {
      "needs_background": "light"
     },
     "output_type": "display_data"
    }
   ],
   "source": [
    "geopandas.GeoSeries([Kenya, nairobi.buffer(1)]).plot(alpha=0.5, cmap='tab10')"
   ]
  },
  {
   "cell_type": "markdown",
   "id": "70e7c3dc",
   "metadata": {},
   "source": [
    "Thats it for the notebook"
   ]
  },
  {
   "cell_type": "code",
   "execution_count": null,
   "id": "f063de7d",
   "metadata": {},
   "outputs": [],
   "source": []
  }
 ],
 "metadata": {
  "kernelspec": {
   "display_name": "Python 3 (ipykernel)",
   "language": "python",
   "name": "python3"
  },
  "language_info": {
   "codemirror_mode": {
    "name": "ipython",
    "version": 3
   },
   "file_extension": ".py",
   "mimetype": "text/x-python",
   "name": "python",
   "nbconvert_exporter": "python",
   "pygments_lexer": "ipython3",
   "version": "3.9.7"
  },
  "toc": {
   "base_numbering": 1,
   "nav_menu": {},
   "number_sections": true,
   "sideBar": true,
   "skip_h1_title": false,
   "title_cell": "Table of Contents",
   "title_sidebar": "Contents",
   "toc_cell": false,
   "toc_position": {},
   "toc_section_display": true,
   "toc_window_display": true
  }
 },
 "nbformat": 4,
 "nbformat_minor": 5
}
